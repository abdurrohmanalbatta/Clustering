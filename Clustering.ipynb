{
 "cells": [
  {
   "cell_type": "markdown",
   "id": "a0bb78f7-d48c-4d49-ba40-2bda5af1174b",
   "metadata": {},
   "source": [
    "# Assignment 1\n",
    "__Abdurahmon Abdurakhimov, 23050141008__\n",
    "\n",
    "This is our first assignment."
   ]
  },
  {
   "cell_type": "code",
   "execution_count": 11,
   "id": "ca3f32ef-05d7-44b4-99b3-9a9c014bc7f8",
   "metadata": {},
   "outputs": [
    {
     "name": "stdout",
     "output_type": "stream",
     "text": [
      "Hello Linear Algebra\n"
     ]
    }
   ],
   "source": [
    "print(\"Hello Linear Algebra\")"
   ]
  },
  {
   "cell_type": "code",
   "execution_count": 32,
   "id": "27827f23-d1ba-4945-83f1-b6fdd825f926",
   "metadata": {},
   "outputs": [
    {
     "name": "stdout",
     "output_type": "stream",
     "text": [
      "time:  0.009989500045776367\n",
      "inner product:  2500289.92273591\n"
     ]
    }
   ],
   "source": [
    "import numpy as np\n",
    "import time\n",
    "a = np.random.rand(10**7)\n",
    "b = np.random.rand(10**7)\n",
    "start = time.time()\n",
    "c = a @ b\n",
    "end = time.time()\n",
    "print(\"time: \",end - start)\n",
    "print(\"inner product: \",c)"
   ]
  },
  {
   "cell_type": "markdown",
   "id": "05be5c1f-5bb4-44fd-a429-d58b7e78ea12",
   "metadata": {},
   "source": [
    "We don't know what is the numbers. Because numbers are random and between 0 and 1. \n",
    "Therefore we don't have any idea about inner product. Answer can be any positive number. "
   ]
  }
 ],
 "metadata": {
  "kernelspec": {
   "display_name": "Python 3 (ipykernel)",
   "language": "python",
   "name": "python3"
  },
  "language_info": {
   "codemirror_mode": {
    "name": "ipython",
    "version": 3
   },
   "file_extension": ".py",
   "mimetype": "text/x-python",
   "name": "python",
   "nbconvert_exporter": "python",
   "pygments_lexer": "ipython3",
   "version": "3.12.1"
  }
 },
 "nbformat": 4,
 "nbformat_minor": 5
}
