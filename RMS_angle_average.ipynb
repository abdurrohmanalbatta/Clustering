{
 "cells": [
  {
   "cell_type": "code",
   "execution_count": 6,
   "id": "4e492ec1-1615-493a-94f3-6d4b31886ad4",
   "metadata": {},
   "outputs": [
    {
     "name": "stdout",
     "output_type": "stream",
     "text": [
      "Average s1 =  68.08333333333333\n",
      "Average s2 =  87.0\n",
      "RMS deviation (between s1 and s2):  33.58943286213687\n",
      "Angle between s1 and s2 (in degrees):  0.37320818483226964\n"
     ]
    }
   ],
   "source": [
    "import numpy as np\n",
    "s1 = np.array([90,90,68,57,0,90,70,70,70,80,55,77]) #Huseyin\n",
    "s2 = np.array([90,100,100,100,100,95,80,70,82,95,61,71]) #Elif\n",
    "avg = lambda x: sum(x)/len(x)\n",
    "\n",
    "print(\"Average s1 = \", avg(s1))\n",
    "print(\"Average s2 = \", avg(s2))\n",
    "\n",
    "rms = lambda x: (sum(x**2)**0.5)/(len(x)**0.5)\n",
    "print(\"RMS deviation (between s1 and s2): \", rms(s1-s2))\n",
    "\n",
    "ang = lambda x,y : np.arccos(x @ y /(np.linalg.norm(x)*np.linalg.norm(y)))\n",
    "print(\"Angle between s1 and s2 (in degrees): \", ang(s1,s2) * (180/np.pi))"
   ]
  },
  {
   "cell_type": "code",
   "execution_count": null,
   "id": "c2ddf2b6-4164-470b-9f15-9a1f5d431e58",
   "metadata": {},
   "outputs": [],
   "source": []
  }
 ],
 "metadata": {
  "kernelspec": {
   "display_name": "Python 3 (ipykernel)",
   "language": "python",
   "name": "python3"
  },
  "language_info": {
   "codemirror_mode": {
    "name": "ipython",
    "version": 3
   },
   "file_extension": ".py",
   "mimetype": "text/x-python",
   "name": "python",
   "nbconvert_exporter": "python",
   "pygments_lexer": "ipython3",
   "version": "3.12.1"
  }
 },
 "nbformat": 4,
 "nbformat_minor": 5
}
